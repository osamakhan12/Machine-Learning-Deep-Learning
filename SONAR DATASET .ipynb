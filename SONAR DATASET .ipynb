{
 "cells": [
  {
   "cell_type": "markdown",
   "metadata": {},
   "source": [
    "# Importing for libraries"
   ]
  },
  {
   "cell_type": "code",
   "execution_count": null,
   "metadata": {},
   "outputs": [],
   "source": [
    "import pandas as pd\n",
    "import numpy as np\n",
    "import tensorflow as tf\n",
    "from tensorflow.keras.utils import to_categorical\n",
    "import os\n",
    "import matplotlib.pyplot as plt\n",
    "import seaborn as sms #\n",
    "from keras import models\n",
    "from keras import layers\n",
    "\n"
   ]
  },
  {
   "cell_type": "markdown",
   "metadata": {},
   "source": [
    "# load dataset"
   ]
  },
  {
   "cell_type": "code",
   "execution_count": 4,
   "metadata": {},
   "outputs": [],
   "source": [
    "dataframe=pd.read_csv('sonar.csv',header=None)"
   ]
  },
  {
   "cell_type": "code",
   "execution_count": 5,
   "metadata": {},
   "outputs": [
    {
     "data": {
      "text/html": [
       "<div>\n",
       "<style scoped>\n",
       "    .dataframe tbody tr th:only-of-type {\n",
       "        vertical-align: middle;\n",
       "    }\n",
       "\n",
       "    .dataframe tbody tr th {\n",
       "        vertical-align: top;\n",
       "    }\n",
       "\n",
       "    .dataframe thead th {\n",
       "        text-align: right;\n",
       "    }\n",
       "</style>\n",
       "<table border=\"1\" class=\"dataframe\">\n",
       "  <thead>\n",
       "    <tr style=\"text-align: right;\">\n",
       "      <th></th>\n",
       "      <th>0</th>\n",
       "      <th>1</th>\n",
       "      <th>2</th>\n",
       "      <th>3</th>\n",
       "      <th>4</th>\n",
       "      <th>5</th>\n",
       "      <th>6</th>\n",
       "      <th>7</th>\n",
       "      <th>8</th>\n",
       "      <th>9</th>\n",
       "      <th>...</th>\n",
       "      <th>51</th>\n",
       "      <th>52</th>\n",
       "      <th>53</th>\n",
       "      <th>54</th>\n",
       "      <th>55</th>\n",
       "      <th>56</th>\n",
       "      <th>57</th>\n",
       "      <th>58</th>\n",
       "      <th>59</th>\n",
       "      <th>60</th>\n",
       "    </tr>\n",
       "  </thead>\n",
       "  <tbody>\n",
       "    <tr>\n",
       "      <td>0</td>\n",
       "      <td>0.0200</td>\n",
       "      <td>0.0371</td>\n",
       "      <td>0.0428</td>\n",
       "      <td>0.0207</td>\n",
       "      <td>0.0954</td>\n",
       "      <td>0.0986</td>\n",
       "      <td>0.1539</td>\n",
       "      <td>0.1601</td>\n",
       "      <td>0.3109</td>\n",
       "      <td>0.2111</td>\n",
       "      <td>...</td>\n",
       "      <td>0.0027</td>\n",
       "      <td>0.0065</td>\n",
       "      <td>0.0159</td>\n",
       "      <td>0.0072</td>\n",
       "      <td>0.0167</td>\n",
       "      <td>0.0180</td>\n",
       "      <td>0.0084</td>\n",
       "      <td>0.0090</td>\n",
       "      <td>0.0032</td>\n",
       "      <td>R</td>\n",
       "    </tr>\n",
       "    <tr>\n",
       "      <td>1</td>\n",
       "      <td>0.0453</td>\n",
       "      <td>0.0523</td>\n",
       "      <td>0.0843</td>\n",
       "      <td>0.0689</td>\n",
       "      <td>0.1183</td>\n",
       "      <td>0.2583</td>\n",
       "      <td>0.2156</td>\n",
       "      <td>0.3481</td>\n",
       "      <td>0.3337</td>\n",
       "      <td>0.2872</td>\n",
       "      <td>...</td>\n",
       "      <td>0.0084</td>\n",
       "      <td>0.0089</td>\n",
       "      <td>0.0048</td>\n",
       "      <td>0.0094</td>\n",
       "      <td>0.0191</td>\n",
       "      <td>0.0140</td>\n",
       "      <td>0.0049</td>\n",
       "      <td>0.0052</td>\n",
       "      <td>0.0044</td>\n",
       "      <td>R</td>\n",
       "    </tr>\n",
       "    <tr>\n",
       "      <td>2</td>\n",
       "      <td>0.0262</td>\n",
       "      <td>0.0582</td>\n",
       "      <td>0.1099</td>\n",
       "      <td>0.1083</td>\n",
       "      <td>0.0974</td>\n",
       "      <td>0.2280</td>\n",
       "      <td>0.2431</td>\n",
       "      <td>0.3771</td>\n",
       "      <td>0.5598</td>\n",
       "      <td>0.6194</td>\n",
       "      <td>...</td>\n",
       "      <td>0.0232</td>\n",
       "      <td>0.0166</td>\n",
       "      <td>0.0095</td>\n",
       "      <td>0.0180</td>\n",
       "      <td>0.0244</td>\n",
       "      <td>0.0316</td>\n",
       "      <td>0.0164</td>\n",
       "      <td>0.0095</td>\n",
       "      <td>0.0078</td>\n",
       "      <td>R</td>\n",
       "    </tr>\n",
       "    <tr>\n",
       "      <td>3</td>\n",
       "      <td>0.0100</td>\n",
       "      <td>0.0171</td>\n",
       "      <td>0.0623</td>\n",
       "      <td>0.0205</td>\n",
       "      <td>0.0205</td>\n",
       "      <td>0.0368</td>\n",
       "      <td>0.1098</td>\n",
       "      <td>0.1276</td>\n",
       "      <td>0.0598</td>\n",
       "      <td>0.1264</td>\n",
       "      <td>...</td>\n",
       "      <td>0.0121</td>\n",
       "      <td>0.0036</td>\n",
       "      <td>0.0150</td>\n",
       "      <td>0.0085</td>\n",
       "      <td>0.0073</td>\n",
       "      <td>0.0050</td>\n",
       "      <td>0.0044</td>\n",
       "      <td>0.0040</td>\n",
       "      <td>0.0117</td>\n",
       "      <td>R</td>\n",
       "    </tr>\n",
       "    <tr>\n",
       "      <td>4</td>\n",
       "      <td>0.0762</td>\n",
       "      <td>0.0666</td>\n",
       "      <td>0.0481</td>\n",
       "      <td>0.0394</td>\n",
       "      <td>0.0590</td>\n",
       "      <td>0.0649</td>\n",
       "      <td>0.1209</td>\n",
       "      <td>0.2467</td>\n",
       "      <td>0.3564</td>\n",
       "      <td>0.4459</td>\n",
       "      <td>...</td>\n",
       "      <td>0.0031</td>\n",
       "      <td>0.0054</td>\n",
       "      <td>0.0105</td>\n",
       "      <td>0.0110</td>\n",
       "      <td>0.0015</td>\n",
       "      <td>0.0072</td>\n",
       "      <td>0.0048</td>\n",
       "      <td>0.0107</td>\n",
       "      <td>0.0094</td>\n",
       "      <td>R</td>\n",
       "    </tr>\n",
       "  </tbody>\n",
       "</table>\n",
       "<p>5 rows × 61 columns</p>\n",
       "</div>"
      ],
      "text/plain": [
       "       0       1       2       3       4       5       6       7       8   \\\n",
       "0  0.0200  0.0371  0.0428  0.0207  0.0954  0.0986  0.1539  0.1601  0.3109   \n",
       "1  0.0453  0.0523  0.0843  0.0689  0.1183  0.2583  0.2156  0.3481  0.3337   \n",
       "2  0.0262  0.0582  0.1099  0.1083  0.0974  0.2280  0.2431  0.3771  0.5598   \n",
       "3  0.0100  0.0171  0.0623  0.0205  0.0205  0.0368  0.1098  0.1276  0.0598   \n",
       "4  0.0762  0.0666  0.0481  0.0394  0.0590  0.0649  0.1209  0.2467  0.3564   \n",
       "\n",
       "       9   ...      51      52      53      54      55      56      57  \\\n",
       "0  0.2111  ...  0.0027  0.0065  0.0159  0.0072  0.0167  0.0180  0.0084   \n",
       "1  0.2872  ...  0.0084  0.0089  0.0048  0.0094  0.0191  0.0140  0.0049   \n",
       "2  0.6194  ...  0.0232  0.0166  0.0095  0.0180  0.0244  0.0316  0.0164   \n",
       "3  0.1264  ...  0.0121  0.0036  0.0150  0.0085  0.0073  0.0050  0.0044   \n",
       "4  0.4459  ...  0.0031  0.0054  0.0105  0.0110  0.0015  0.0072  0.0048   \n",
       "\n",
       "       58      59  60  \n",
       "0  0.0090  0.0032   R  \n",
       "1  0.0052  0.0044   R  \n",
       "2  0.0095  0.0078   R  \n",
       "3  0.0040  0.0117   R  \n",
       "4  0.0107  0.0094   R  \n",
       "\n",
       "[5 rows x 61 columns]"
      ]
     },
     "execution_count": 5,
     "metadata": {},
     "output_type": "execute_result"
    }
   ],
   "source": [
    "dataframe.head()"
   ]
  },
  {
   "cell_type": "markdown",
   "metadata": {},
   "source": [
    "# Shuffling splitting and encoding"
   ]
  },
  {
   "cell_type": "code",
   "execution_count": 9,
   "metadata": {},
   "outputs": [
    {
     "data": {
      "text/html": [
       "<div>\n",
       "<style scoped>\n",
       "    .dataframe tbody tr th:only-of-type {\n",
       "        vertical-align: middle;\n",
       "    }\n",
       "\n",
       "    .dataframe tbody tr th {\n",
       "        vertical-align: top;\n",
       "    }\n",
       "\n",
       "    .dataframe thead th {\n",
       "        text-align: right;\n",
       "    }\n",
       "</style>\n",
       "<table border=\"1\" class=\"dataframe\">\n",
       "  <thead>\n",
       "    <tr style=\"text-align: right;\">\n",
       "      <th></th>\n",
       "      <th>0</th>\n",
       "      <th>1</th>\n",
       "      <th>2</th>\n",
       "      <th>3</th>\n",
       "      <th>4</th>\n",
       "      <th>5</th>\n",
       "      <th>6</th>\n",
       "      <th>7</th>\n",
       "      <th>8</th>\n",
       "      <th>9</th>\n",
       "      <th>...</th>\n",
       "      <th>51</th>\n",
       "      <th>52</th>\n",
       "      <th>53</th>\n",
       "      <th>54</th>\n",
       "      <th>55</th>\n",
       "      <th>56</th>\n",
       "      <th>57</th>\n",
       "      <th>58</th>\n",
       "      <th>59</th>\n",
       "      <th>60</th>\n",
       "    </tr>\n",
       "  </thead>\n",
       "  <tbody>\n",
       "    <tr>\n",
       "      <td>82</td>\n",
       "      <td>0.0409</td>\n",
       "      <td>0.0421</td>\n",
       "      <td>0.0573</td>\n",
       "      <td>0.0130</td>\n",
       "      <td>0.0183</td>\n",
       "      <td>0.1019</td>\n",
       "      <td>0.1054</td>\n",
       "      <td>0.1070</td>\n",
       "      <td>0.2302</td>\n",
       "      <td>0.2259</td>\n",
       "      <td>...</td>\n",
       "      <td>0.0028</td>\n",
       "      <td>0.0036</td>\n",
       "      <td>0.0105</td>\n",
       "      <td>0.0120</td>\n",
       "      <td>0.0087</td>\n",
       "      <td>0.0061</td>\n",
       "      <td>0.0061</td>\n",
       "      <td>0.0030</td>\n",
       "      <td>0.0078</td>\n",
       "      <td>R</td>\n",
       "    </tr>\n",
       "    <tr>\n",
       "      <td>158</td>\n",
       "      <td>0.0107</td>\n",
       "      <td>0.0453</td>\n",
       "      <td>0.0289</td>\n",
       "      <td>0.0713</td>\n",
       "      <td>0.1075</td>\n",
       "      <td>0.1019</td>\n",
       "      <td>0.1606</td>\n",
       "      <td>0.2119</td>\n",
       "      <td>0.3061</td>\n",
       "      <td>0.2936</td>\n",
       "      <td>...</td>\n",
       "      <td>0.0164</td>\n",
       "      <td>0.0120</td>\n",
       "      <td>0.0113</td>\n",
       "      <td>0.0021</td>\n",
       "      <td>0.0097</td>\n",
       "      <td>0.0072</td>\n",
       "      <td>0.0060</td>\n",
       "      <td>0.0017</td>\n",
       "      <td>0.0036</td>\n",
       "      <td>M</td>\n",
       "    </tr>\n",
       "    <tr>\n",
       "      <td>113</td>\n",
       "      <td>0.0283</td>\n",
       "      <td>0.0599</td>\n",
       "      <td>0.0656</td>\n",
       "      <td>0.0229</td>\n",
       "      <td>0.0839</td>\n",
       "      <td>0.1673</td>\n",
       "      <td>0.1154</td>\n",
       "      <td>0.1098</td>\n",
       "      <td>0.1370</td>\n",
       "      <td>0.1767</td>\n",
       "      <td>...</td>\n",
       "      <td>0.0147</td>\n",
       "      <td>0.0170</td>\n",
       "      <td>0.0158</td>\n",
       "      <td>0.0046</td>\n",
       "      <td>0.0073</td>\n",
       "      <td>0.0054</td>\n",
       "      <td>0.0033</td>\n",
       "      <td>0.0045</td>\n",
       "      <td>0.0079</td>\n",
       "      <td>M</td>\n",
       "    </tr>\n",
       "    <tr>\n",
       "      <td>83</td>\n",
       "      <td>0.0217</td>\n",
       "      <td>0.0340</td>\n",
       "      <td>0.0392</td>\n",
       "      <td>0.0236</td>\n",
       "      <td>0.1081</td>\n",
       "      <td>0.1164</td>\n",
       "      <td>0.1398</td>\n",
       "      <td>0.1009</td>\n",
       "      <td>0.1147</td>\n",
       "      <td>0.1777</td>\n",
       "      <td>...</td>\n",
       "      <td>0.0031</td>\n",
       "      <td>0.0103</td>\n",
       "      <td>0.0078</td>\n",
       "      <td>0.0077</td>\n",
       "      <td>0.0094</td>\n",
       "      <td>0.0031</td>\n",
       "      <td>0.0030</td>\n",
       "      <td>0.0013</td>\n",
       "      <td>0.0069</td>\n",
       "      <td>R</td>\n",
       "    </tr>\n",
       "    <tr>\n",
       "      <td>148</td>\n",
       "      <td>0.0712</td>\n",
       "      <td>0.0901</td>\n",
       "      <td>0.1276</td>\n",
       "      <td>0.1497</td>\n",
       "      <td>0.1284</td>\n",
       "      <td>0.1165</td>\n",
       "      <td>0.1285</td>\n",
       "      <td>0.1684</td>\n",
       "      <td>0.1830</td>\n",
       "      <td>0.2127</td>\n",
       "      <td>...</td>\n",
       "      <td>0.0154</td>\n",
       "      <td>0.0156</td>\n",
       "      <td>0.0054</td>\n",
       "      <td>0.0030</td>\n",
       "      <td>0.0048</td>\n",
       "      <td>0.0087</td>\n",
       "      <td>0.0101</td>\n",
       "      <td>0.0095</td>\n",
       "      <td>0.0068</td>\n",
       "      <td>M</td>\n",
       "    </tr>\n",
       "    <tr>\n",
       "      <td>...</td>\n",
       "      <td>...</td>\n",
       "      <td>...</td>\n",
       "      <td>...</td>\n",
       "      <td>...</td>\n",
       "      <td>...</td>\n",
       "      <td>...</td>\n",
       "      <td>...</td>\n",
       "      <td>...</td>\n",
       "      <td>...</td>\n",
       "      <td>...</td>\n",
       "      <td>...</td>\n",
       "      <td>...</td>\n",
       "      <td>...</td>\n",
       "      <td>...</td>\n",
       "      <td>...</td>\n",
       "      <td>...</td>\n",
       "      <td>...</td>\n",
       "      <td>...</td>\n",
       "      <td>...</td>\n",
       "      <td>...</td>\n",
       "      <td>...</td>\n",
       "    </tr>\n",
       "    <tr>\n",
       "      <td>174</td>\n",
       "      <td>0.0191</td>\n",
       "      <td>0.0173</td>\n",
       "      <td>0.0291</td>\n",
       "      <td>0.0301</td>\n",
       "      <td>0.0463</td>\n",
       "      <td>0.0690</td>\n",
       "      <td>0.0576</td>\n",
       "      <td>0.1103</td>\n",
       "      <td>0.2423</td>\n",
       "      <td>0.3134</td>\n",
       "      <td>...</td>\n",
       "      <td>0.0040</td>\n",
       "      <td>0.0136</td>\n",
       "      <td>0.0137</td>\n",
       "      <td>0.0172</td>\n",
       "      <td>0.0132</td>\n",
       "      <td>0.0110</td>\n",
       "      <td>0.0122</td>\n",
       "      <td>0.0114</td>\n",
       "      <td>0.0068</td>\n",
       "      <td>M</td>\n",
       "    </tr>\n",
       "    <tr>\n",
       "      <td>94</td>\n",
       "      <td>0.0025</td>\n",
       "      <td>0.0309</td>\n",
       "      <td>0.0171</td>\n",
       "      <td>0.0228</td>\n",
       "      <td>0.0434</td>\n",
       "      <td>0.1224</td>\n",
       "      <td>0.1947</td>\n",
       "      <td>0.1661</td>\n",
       "      <td>0.1368</td>\n",
       "      <td>0.1430</td>\n",
       "      <td>...</td>\n",
       "      <td>0.0149</td>\n",
       "      <td>0.0077</td>\n",
       "      <td>0.0036</td>\n",
       "      <td>0.0114</td>\n",
       "      <td>0.0085</td>\n",
       "      <td>0.0101</td>\n",
       "      <td>0.0016</td>\n",
       "      <td>0.0028</td>\n",
       "      <td>0.0014</td>\n",
       "      <td>R</td>\n",
       "    </tr>\n",
       "    <tr>\n",
       "      <td>133</td>\n",
       "      <td>0.0790</td>\n",
       "      <td>0.0707</td>\n",
       "      <td>0.0352</td>\n",
       "      <td>0.1660</td>\n",
       "      <td>0.1330</td>\n",
       "      <td>0.0226</td>\n",
       "      <td>0.0771</td>\n",
       "      <td>0.2678</td>\n",
       "      <td>0.5664</td>\n",
       "      <td>0.6609</td>\n",
       "      <td>...</td>\n",
       "      <td>0.0298</td>\n",
       "      <td>0.0390</td>\n",
       "      <td>0.0294</td>\n",
       "      <td>0.0175</td>\n",
       "      <td>0.0249</td>\n",
       "      <td>0.0141</td>\n",
       "      <td>0.0073</td>\n",
       "      <td>0.0025</td>\n",
       "      <td>0.0101</td>\n",
       "      <td>M</td>\n",
       "    </tr>\n",
       "    <tr>\n",
       "      <td>196</td>\n",
       "      <td>0.0050</td>\n",
       "      <td>0.0017</td>\n",
       "      <td>0.0270</td>\n",
       "      <td>0.0450</td>\n",
       "      <td>0.0958</td>\n",
       "      <td>0.0830</td>\n",
       "      <td>0.0879</td>\n",
       "      <td>0.1220</td>\n",
       "      <td>0.1977</td>\n",
       "      <td>0.2282</td>\n",
       "      <td>...</td>\n",
       "      <td>0.0165</td>\n",
       "      <td>0.0056</td>\n",
       "      <td>0.0010</td>\n",
       "      <td>0.0027</td>\n",
       "      <td>0.0062</td>\n",
       "      <td>0.0024</td>\n",
       "      <td>0.0063</td>\n",
       "      <td>0.0017</td>\n",
       "      <td>0.0028</td>\n",
       "      <td>M</td>\n",
       "    </tr>\n",
       "    <tr>\n",
       "      <td>90</td>\n",
       "      <td>0.0126</td>\n",
       "      <td>0.0519</td>\n",
       "      <td>0.0621</td>\n",
       "      <td>0.0518</td>\n",
       "      <td>0.1072</td>\n",
       "      <td>0.2587</td>\n",
       "      <td>0.2304</td>\n",
       "      <td>0.2067</td>\n",
       "      <td>0.3416</td>\n",
       "      <td>0.4284</td>\n",
       "      <td>...</td>\n",
       "      <td>0.0208</td>\n",
       "      <td>0.0048</td>\n",
       "      <td>0.0199</td>\n",
       "      <td>0.0126</td>\n",
       "      <td>0.0022</td>\n",
       "      <td>0.0037</td>\n",
       "      <td>0.0034</td>\n",
       "      <td>0.0114</td>\n",
       "      <td>0.0077</td>\n",
       "      <td>R</td>\n",
       "    </tr>\n",
       "  </tbody>\n",
       "</table>\n",
       "<p>208 rows × 61 columns</p>\n",
       "</div>"
      ],
      "text/plain": [
       "         0       1       2       3       4       5       6       7       8   \\\n",
       "82   0.0409  0.0421  0.0573  0.0130  0.0183  0.1019  0.1054  0.1070  0.2302   \n",
       "158  0.0107  0.0453  0.0289  0.0713  0.1075  0.1019  0.1606  0.2119  0.3061   \n",
       "113  0.0283  0.0599  0.0656  0.0229  0.0839  0.1673  0.1154  0.1098  0.1370   \n",
       "83   0.0217  0.0340  0.0392  0.0236  0.1081  0.1164  0.1398  0.1009  0.1147   \n",
       "148  0.0712  0.0901  0.1276  0.1497  0.1284  0.1165  0.1285  0.1684  0.1830   \n",
       "..      ...     ...     ...     ...     ...     ...     ...     ...     ...   \n",
       "174  0.0191  0.0173  0.0291  0.0301  0.0463  0.0690  0.0576  0.1103  0.2423   \n",
       "94   0.0025  0.0309  0.0171  0.0228  0.0434  0.1224  0.1947  0.1661  0.1368   \n",
       "133  0.0790  0.0707  0.0352  0.1660  0.1330  0.0226  0.0771  0.2678  0.5664   \n",
       "196  0.0050  0.0017  0.0270  0.0450  0.0958  0.0830  0.0879  0.1220  0.1977   \n",
       "90   0.0126  0.0519  0.0621  0.0518  0.1072  0.2587  0.2304  0.2067  0.3416   \n",
       "\n",
       "         9   ...      51      52      53      54      55      56      57  \\\n",
       "82   0.2259  ...  0.0028  0.0036  0.0105  0.0120  0.0087  0.0061  0.0061   \n",
       "158  0.2936  ...  0.0164  0.0120  0.0113  0.0021  0.0097  0.0072  0.0060   \n",
       "113  0.1767  ...  0.0147  0.0170  0.0158  0.0046  0.0073  0.0054  0.0033   \n",
       "83   0.1777  ...  0.0031  0.0103  0.0078  0.0077  0.0094  0.0031  0.0030   \n",
       "148  0.2127  ...  0.0154  0.0156  0.0054  0.0030  0.0048  0.0087  0.0101   \n",
       "..      ...  ...     ...     ...     ...     ...     ...     ...     ...   \n",
       "174  0.3134  ...  0.0040  0.0136  0.0137  0.0172  0.0132  0.0110  0.0122   \n",
       "94   0.1430  ...  0.0149  0.0077  0.0036  0.0114  0.0085  0.0101  0.0016   \n",
       "133  0.6609  ...  0.0298  0.0390  0.0294  0.0175  0.0249  0.0141  0.0073   \n",
       "196  0.2282  ...  0.0165  0.0056  0.0010  0.0027  0.0062  0.0024  0.0063   \n",
       "90   0.4284  ...  0.0208  0.0048  0.0199  0.0126  0.0022  0.0037  0.0034   \n",
       "\n",
       "         58      59  60  \n",
       "82   0.0030  0.0078   R  \n",
       "158  0.0017  0.0036   M  \n",
       "113  0.0045  0.0079   M  \n",
       "83   0.0013  0.0069   R  \n",
       "148  0.0095  0.0068   M  \n",
       "..      ...     ...  ..  \n",
       "174  0.0114  0.0068   M  \n",
       "94   0.0028  0.0014   R  \n",
       "133  0.0025  0.0101   M  \n",
       "196  0.0017  0.0028   M  \n",
       "90   0.0114  0.0077   R  \n",
       "\n",
       "[208 rows x 61 columns]"
      ]
     },
     "execution_count": 9,
     "metadata": {},
     "output_type": "execute_result"
    }
   ],
   "source": [
    "df=dataframe.sample(frac=1)\n",
    "df"
   ]
  },
  {
   "cell_type": "code",
   "execution_count": 7,
   "metadata": {},
   "outputs": [],
   "source": [
    "sonar=df.values\n"
   ]
  },
  {
   "cell_type": "code",
   "execution_count": 10,
   "metadata": {},
   "outputs": [
    {
     "data": {
      "text/plain": [
       "1"
      ]
     },
     "execution_count": 10,
     "metadata": {},
     "output_type": "execute_result"
    }
   ],
   "source": [
    "data = sonar[:,0:60].astype('float')\n",
    "labels = sonar[:,60]\n",
    "from sklearn.preprocessing import LabelEncoder\n",
    "# encode class values as integers\n",
    "le = LabelEncoder()\n",
    "encoded_Y = le.fit_transform(labels)\n",
    "encoded_Y.ndim"
   ]
  },
  {
   "cell_type": "code",
   "execution_count": 19,
   "metadata": {},
   "outputs": [
    {
     "name": "stdout",
     "output_type": "stream",
     "text": [
      "1\n"
     ]
    }
   ],
   "source": [
    "x_train_data = sonar[:144,:60].astype('float') \n",
    "y_train_label = encoded_Y[:144]\n",
    "x_test_data = sonar[144:,:60].astype('float')\n",
    "y_test_label = encoded_Y[144:]\n",
    "print(y_train_label.ndim)"
   ]
  },
  {
   "cell_type": "code",
   "execution_count": 20,
   "metadata": {},
   "outputs": [
    {
     "name": "stdout",
     "output_type": "stream",
     "text": [
      "(144, 60)\n",
      "(144,)\n",
      "(64, 60)\n",
      "(64,)\n"
     ]
    }
   ],
   "source": [
    "print(x_train_data.shape)\n",
    "print(y_train_label.shape)\n",
    "print(x_test_data.shape)\n",
    "print(y_test_label.shape)"
   ]
  },
  {
   "cell_type": "code",
   "execution_count": 21,
   "metadata": {},
   "outputs": [],
   "source": [
    "x_val=x_train_data[:21] #totl 40k hain jisme se validation me 10k ja rahe hain\n",
    "partial_x_train=x_train_data[21:] #or baki partial me ja rahe ha\n",
    "y_val=y_train_label[:21]\n",
    "partial_y_train=y_train_label[21:]\n"
   ]
  },
  {
   "cell_type": "code",
   "execution_count": 25,
   "metadata": {},
   "outputs": [
    {
     "name": "stdout",
     "output_type": "stream",
     "text": [
      "(21, 60)\n",
      "1\n",
      "(123, 60)\n"
     ]
    },
    {
     "data": {
      "text/plain": [
       "60"
      ]
     },
     "execution_count": 25,
     "metadata": {},
     "output_type": "execute_result"
    }
   ],
   "source": [
    "print(x_val.shape)\n",
    "print(y_val.ndim)\n",
    "print(partial_x_train.shape)\n",
    "partial_x_train.shape[1]"
   ]
  },
  {
   "cell_type": "markdown",
   "metadata": {},
   "source": [
    "# building model"
   ]
  },
  {
   "cell_type": "code",
   "execution_count": 26,
   "metadata": {},
   "outputs": [],
   "source": [
    "def build_model():\n",
    "    model=models.Sequential()\n",
    "    model.add(layers.Dense(40,activation='relu',input_dim=60))\n",
    "    model.add(layers.Dense(30, activation='relu'))\n",
    "    model.add(layers.Dense(1,activation='sigmoid'))\n",
    "    model.compile(optimizer='adam',\n",
    "                  loss='binary_crossentropy',\n",
    "                  metrics=['accuracy'])\n",
    "    return model\n"
   ]
  },
  {
   "cell_type": "markdown",
   "metadata": {},
   "source": [
    "# k FOLD"
   ]
  },
  {
   "cell_type": "code",
   "execution_count": 28,
   "metadata": {},
   "outputs": [
    {
     "name": "stdout",
     "output_type": "stream",
     "text": [
      "proccessing fold # 0\n",
      "proccessing fold # 1\n",
      "proccessing fold # 2\n",
      "proccessing fold # 3\n",
      "proccessing fold # 4\n",
      "proccessing fold # 5\n",
      "proccessing fold # 6\n",
      "proccessing fold # 7\n",
      "proccessing fold # 8\n",
      "proccessing fold # 9\n"
     ]
    }
   ],
   "source": [
    "k=10\n",
    "num_val_samples=len(partial_x_train)//k\n",
    "num_epochs=50\n",
    "all_scores=[]\n",
    "all_mae_histories=[]\n",
    "for i in range(k):\n",
    "    print(\"proccessing fold #\",i)\n",
    "    val_data=partial_x_train[i*num_val_samples:(i+1)*num_val_samples]\n",
    "    val_labels=partial_y_train[i*num_val_samples:(i+1)*num_val_samples]\n",
    "    partial_train_data=np.concatenate([partial_x_train[:i*num_val_samples],partial_x_train[(i+1)*num_val_samples:]],axis=0)\n",
    "    partial_train_labels=np.concatenate([partial_y_train[:i*num_val_samples],partial_y_train[(i+1)*num_val_samples:]],axis=0)\n",
    "    model=build_model()\n",
    "    history=model.fit(partial_train_data, partial_train_labels,\n",
    "                      epochs=num_epochs, batch_size=30, verbose=0)\n",
    "    val_mse, val_mae = model.evaluate(val_data, val_labels, verbose=0)\n",
    "    all_scores.append(val_mae)\n",
    "    mae_history = history.history['accuracy']\n",
    "    all_mae_histories.append(mae_history)"
   ]
  },
  {
   "cell_type": "code",
   "execution_count": 33,
   "metadata": {},
   "outputs": [
    {
     "name": "stdout",
     "output_type": "stream",
     "text": [
      "all fold validation error [0.8333333134651184, 0.9166666865348816, 0.9166666865348816, 0.5, 0.6666666865348816, 0.75, 0.9166666865348816, 0.9166666865348816, 0.75, 0.8333333134651184]\n",
      "mean of all fold validation error 0.8000000059604645\n",
      "average_mae_history [0.5063063, 0.52792794, 0.5936936, 0.63873875, 0.67477477, 0.6963964, 0.718018, 0.7108108, 0.718018, 0.7369369, 0.7369369, 0.7522522, 0.7684685, 0.7792793, 0.7783784, 0.78198195, 0.7837838, 0.7945946, 0.8018018, 0.80540544, 0.80630624, 0.81261265, 0.8162163, 0.8207208, 0.8279279, 0.8234234, 0.82972974, 0.83243245, 0.83423424, 0.84414417, 0.8513514, 0.8504504, 0.8522523, 0.8531531, 0.8594594, 0.8504504, 0.8567568, 0.86576575, 0.8666667, 0.86846846, 0.86576575, 0.86756766, 0.87477475, 0.8747748, 0.8765766, 0.8747748, 0.8756757, 0.8756757, 0.8756757, 0.8783785]\n"
     ]
    }
   ],
   "source": [
    "average_mae_history=[np.mean([x[i] for x in all_mae_histories]) for i in range(num_epochs)]\n",
    "print('all fold validation error',all_scores)\n",
    "print('mean of all fold validation error',np.mean(all_scores))\n",
    "print('average_mae_history',average_mae_history )                     "
   ]
  },
  {
   "cell_type": "code",
   "execution_count": 34,
   "metadata": {},
   "outputs": [
    {
     "data": {
      "text/plain": [
       "[50, 50, 50, 50, 50, 50, 50, 50, 50, 50]"
      ]
     },
     "execution_count": 34,
     "metadata": {},
     "output_type": "execute_result"
    }
   ],
   "source": [
    "[len(x) for x in all_mae_histories]"
   ]
  },
  {
   "cell_type": "code",
   "execution_count": 36,
   "metadata": {},
   "outputs": [
    {
     "name": "stdout",
     "output_type": "stream",
     "text": [
      "Train on 123 samples, validate on 21 samples\n",
      "Epoch 1/30\n",
      "123/123 [==============================] - 1s 8ms/step - loss: 0.3772 - accuracy: 0.8455 - val_loss: 0.4271 - val_accuracy: 0.8571\n",
      "Epoch 2/30\n",
      "123/123 [==============================] - 0s 268us/step - loss: 0.3598 - accuracy: 0.8537 - val_loss: 0.3777 - val_accuracy: 0.8571\n",
      "Epoch 3/30\n",
      "123/123 [==============================] - 0s 268us/step - loss: 0.3507 - accuracy: 0.8618 - val_loss: 0.4588 - val_accuracy: 0.8095\n",
      "Epoch 4/30\n",
      " 10/123 [=>............................] - ETA: 0s - loss: 0.2089 - accuracy: 1.0000"
     ]
    },
    {
     "name": "stderr",
     "output_type": "stream",
     "text": [
      "C:\\ProgramData\\Anaconda3\\lib\\site-packages\\keras\\callbacks\\callbacks.py:95: RuntimeWarning: Method (on_train_batch_end) is slow compared to the batch update (0.119969). Check your callbacks.\n",
      "  % (hook_name, delta_t_median), RuntimeWarning)\n"
     ]
    },
    {
     "name": "stdout",
     "output_type": "stream",
     "text": [
      "123/123 [==============================] - 0s 487us/step - loss: 0.3298 - accuracy: 0.8780 - val_loss: 0.3900 - val_accuracy: 0.8571\n",
      "Epoch 5/30\n",
      "123/123 [==============================] - 0s 358us/step - loss: 0.3235 - accuracy: 0.8780 - val_loss: 0.4409 - val_accuracy: 0.8571\n",
      "Epoch 6/30\n",
      "123/123 [==============================] - 0s 406us/step - loss: 0.3130 - accuracy: 0.8862 - val_loss: 0.4538 - val_accuracy: 0.8095\n",
      "Epoch 7/30\n",
      "123/123 [==============================] - 0s 463us/step - loss: 0.2975 - accuracy: 0.8862 - val_loss: 0.4167 - val_accuracy: 0.8571\n",
      "Epoch 8/30\n",
      "123/123 [==============================] - 0s 683us/step - loss: 0.2889 - accuracy: 0.9024 - val_loss: 0.4176 - val_accuracy: 0.8571\n",
      "Epoch 9/30\n",
      "123/123 [==============================] - 0s 309us/step - loss: 0.2783 - accuracy: 0.9024 - val_loss: 0.3860 - val_accuracy: 0.8571\n",
      "Epoch 10/30\n",
      "123/123 [==============================] - 0s 325us/step - loss: 0.2815 - accuracy: 0.8943 - val_loss: 0.4547 - val_accuracy: 0.8095\n",
      "Epoch 11/30\n",
      "123/123 [==============================] - 0s 260us/step - loss: 0.2788 - accuracy: 0.8862 - val_loss: 0.3926 - val_accuracy: 0.8571\n",
      "Epoch 12/30\n",
      "123/123 [==============================] - 0s 292us/step - loss: 0.2618 - accuracy: 0.8943 - val_loss: 0.4299 - val_accuracy: 0.8571\n",
      "Epoch 13/30\n",
      "123/123 [==============================] - 0s 260us/step - loss: 0.2547 - accuracy: 0.9024 - val_loss: 0.3663 - val_accuracy: 0.8571\n",
      "Epoch 14/30\n",
      "123/123 [==============================] - 0s 227us/step - loss: 0.2555 - accuracy: 0.8862 - val_loss: 0.4706 - val_accuracy: 0.7619\n",
      "Epoch 15/30\n",
      "123/123 [==============================] - 0s 301us/step - loss: 0.2480 - accuracy: 0.9268 - val_loss: 0.3301 - val_accuracy: 0.8571\n",
      "Epoch 16/30\n",
      "123/123 [==============================] - 0s 260us/step - loss: 0.2769 - accuracy: 0.8862 - val_loss: 0.4805 - val_accuracy: 0.7619\n",
      "Epoch 17/30\n",
      "123/123 [==============================] - 0s 276us/step - loss: 0.2312 - accuracy: 0.9350 - val_loss: 0.3229 - val_accuracy: 0.8571\n",
      "Epoch 18/30\n",
      "123/123 [==============================] - 0s 203us/step - loss: 0.2197 - accuracy: 0.9106 - val_loss: 0.4679 - val_accuracy: 0.8095\n",
      "Epoch 19/30\n",
      "123/123 [==============================] - 0s 252us/step - loss: 0.2370 - accuracy: 0.9024 - val_loss: 0.3399 - val_accuracy: 0.8571\n",
      "Epoch 20/30\n",
      "123/123 [==============================] - 0s 252us/step - loss: 0.2219 - accuracy: 0.9187 - val_loss: 0.3447 - val_accuracy: 0.8571\n",
      "Epoch 21/30\n",
      "123/123 [==============================] - 0s 228us/step - loss: 0.2127 - accuracy: 0.9187 - val_loss: 0.4378 - val_accuracy: 0.8095\n",
      "Epoch 22/30\n",
      "123/123 [==============================] - 0s 309us/step - loss: 0.2056 - accuracy: 0.9350 - val_loss: 0.3156 - val_accuracy: 0.8571\n",
      "Epoch 23/30\n",
      "123/123 [==============================] - 0s 244us/step - loss: 0.1964 - accuracy: 0.9268 - val_loss: 0.3488 - val_accuracy: 0.8571\n",
      "Epoch 24/30\n",
      "123/123 [==============================] - 0s 301us/step - loss: 0.1964 - accuracy: 0.9350 - val_loss: 0.3063 - val_accuracy: 0.8571\n",
      "Epoch 25/30\n",
      "123/123 [==============================] - 0s 276us/step - loss: 0.1855 - accuracy: 0.9512 - val_loss: 0.4427 - val_accuracy: 0.8095\n",
      "Epoch 26/30\n",
      "123/123 [==============================] - 0s 244us/step - loss: 0.1919 - accuracy: 0.9431 - val_loss: 0.3314 - val_accuracy: 0.8571\n",
      "Epoch 27/30\n",
      "123/123 [==============================] - 0s 228us/step - loss: 0.1785 - accuracy: 0.9268 - val_loss: 0.3604 - val_accuracy: 0.8571\n",
      "Epoch 28/30\n",
      "123/123 [==============================] - ETA: 0s - loss: 0.2174 - accuracy: 0.90 - 0s 276us/step - loss: 0.1752 - accuracy: 0.9431 - val_loss: 0.3565 - val_accuracy: 0.8571\n",
      "Epoch 29/30\n",
      "123/123 [==============================] - 0s 219us/step - loss: 0.1650 - accuracy: 0.9431 - val_loss: 0.3491 - val_accuracy: 0.8571\n",
      "Epoch 30/30\n",
      "123/123 [==============================] - 0s 228us/step - loss: 0.1749 - accuracy: 0.9675 - val_loss: 0.3225 - val_accuracy: 0.8571\n"
     ]
    }
   ],
   "source": [
    "history=model.fit(partial_x_train,partial_y_train,epochs=30,batch_size=10,validation_data=(x_val,y_val))"
   ]
  },
  {
   "cell_type": "code",
   "execution_count": 39,
   "metadata": {},
   "outputs": [
    {
     "name": "stdout",
     "output_type": "stream",
     "text": [
      "64/64 [==============================] - 0s 78us/step\n"
     ]
    },
    {
     "data": {
      "text/plain": [
       "0.38777270913124084"
      ]
     },
     "execution_count": 39,
     "metadata": {},
     "output_type": "execute_result"
    }
   ],
   "source": [
    "\n",
    "test_mse_score, test_mae_score = model.evaluate(x_test_data,y_test_label)\n",
    "test_mse_score\n"
   ]
  },
  {
   "cell_type": "code",
   "execution_count": 44,
   "metadata": {},
   "outputs": [
    {
     "data": {
      "text/plain": [
       "0.84375"
      ]
     },
     "execution_count": 44,
     "metadata": {},
     "output_type": "execute_result"
    }
   ],
   "source": [
    "test_mae_score"
   ]
  },
  {
   "cell_type": "code",
   "execution_count": 45,
   "metadata": {},
   "outputs": [],
   "source": [
    "history_dict=history.history"
   ]
  },
  {
   "cell_type": "markdown",
   "metadata": {},
   "source": [
    "# plot graph"
   ]
  },
  {
   "cell_type": "code",
   "execution_count": 46,
   "metadata": {},
   "outputs": [
    {
     "data": {
      "image/png": "[encoded data removed]",
      "text/plain": [
       "<Figure size 432x288 with 1 Axes>"
      ]
     },
     "metadata": {
      "needs_background": "light"
     },
     "output_type": "display_data"
    },
    {
     "data": {
      "image/png": "[encoded data removed]",
      "text/plain": [
       "<Figure size 432x288 with 1 Axes>"
      ]
     },
     "metadata": {
      "needs_background": "light"
     },
     "output_type": "display_data"
    },
    {
     "data": {
      "text/plain": [
       "<function matplotlib.pyplot.clf()>"
      ]
     },
     "execution_count": 46,
     "metadata": {},
     "output_type": "execute_result"
    }
   ],
   "source": [
    "\n",
    "loss_values=history_dict['loss']\n",
    "val_loss_values=history_dict['val_loss']\n",
    "epochs=range(1,len(loss_values)+1)\n",
    "plt.plot(epochs,loss_values,'bo',label='Training loss')\n",
    "plt.plot(epochs,val_loss_values,'b',label='Validation loss')\n",
    "plt.title('Training and Validation loss')\n",
    "plt.xlabel('Epochs')\n",
    "plt.ylabel('Loss')\n",
    "plt.legend()\n",
    "plt.show()\n",
    "plt.clf\n",
    "acc_values=history_dict['accuracy']\n",
    "val_acc_values=history_dict['val_accuracy']\n",
    "epochs=range(1,len(acc_values)+1)\n",
    "plt.plot(epochs,acc_values,'bo',label='Training acc')\n",
    "plt.plot(epochs,val_acc_values,'b',label='Validation acc')\n",
    "plt.title('Training and Validation accuracy')\n",
    "plt.xlabel('Epochs')\n",
    "plt.ylabel('acc')\n",
    "plt.legend()\n",
    "plt.show()\n",
    "plt.clf"
   ]
  },
  {
   "cell_type": "code",
   "execution_count": null,
   "metadata": {},
   "outputs": [],
   "source": []
  }
 ],
 "metadata": {
  "kernelspec": {
   "display_name": "Python 3",
   "language": "python",
   "name": "python3"
  },
  "language_info": {
   "codemirror_mode": {
    "name": "ipython",
    "version": 3
   },
   "file_extension": ".py",
   "mimetype": "text/x-python",
   "name": "python",
   "nbconvert_exporter": "python",
   "pygments_lexer": "ipython3",
   "version": "3.7.4"
  }
 },
 "nbformat": 4,
 "nbformat_minor": 2
}
