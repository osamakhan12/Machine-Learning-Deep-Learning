{
 "cells": [
  {
   "cell_type": "markdown",
   "metadata": {},
   "source": [
    "# IMPORT LIBRARIES"
   ]
  },
  {
   "cell_type": "code",
   "execution_count": 39,
   "metadata": {},
   "outputs": [],
   "source": [
    "import tensorflow as tf\n",
    "from tensorflow.keras.datasets import reuters\n",
    "from tensorflow.keras import models,layers,optimizers,utils\n",
    "import numpy as np\n",
    "import pandas as pd\n",
    "import matplotlib.pyplot as plt"
   ]
  },
  {
   "cell_type": "markdown",
   "metadata": {},
   "source": [
    "# LOADING DATASET"
   ]
  },
  {
   "cell_type": "code",
   "execution_count": 53,
   "metadata": {},
   "outputs": [],
   "source": [
    "(train_data,train_labels),(test_data,test_labels)=reuters.load_data(num_words=10000)"
   ]
  },
  {
   "cell_type": "code",
   "execution_count": 54,
   "metadata": {},
   "outputs": [
    {
     "name": "stdout",
     "output_type": "stream",
     "text": [
      "8982\n",
      "2246\n"
     ]
    }
   ],
   "source": [
    "print(len(train_data))\n",
    "print(len(test_data))"
   ]
  },
  {
   "cell_type": "code",
   "execution_count": 42,
   "metadata": {},
   "outputs": [
    {
     "data": {
      "text/plain": [
       "[1,\n",
       " 2,\n",
       " 2,\n",
       " 8,\n",
       " 43,\n",
       " 10,\n",
       " 447,\n",
       " 5,\n",
       " 25,\n",
       " 207,\n",
       " 270,\n",
       " 5,\n",
       " 3095,\n",
       " 111,\n",
       " 16,\n",
       " 369,\n",
       " 186,\n",
       " 90,\n",
       " 67,\n",
       " 7,\n",
       " 89,\n",
       " 5,\n",
       " 19,\n",
       " 102,\n",
       " 6,\n",
       " 19,\n",
       " 124,\n",
       " 15,\n",
       " 90,\n",
       " 67,\n",
       " 84,\n",
       " 22,\n",
       " 482,\n",
       " 26,\n",
       " 7,\n",
       " 48,\n",
       " 4,\n",
       " 49,\n",
       " 8,\n",
       " 864,\n",
       " 39,\n",
       " 209,\n",
       " 154,\n",
       " 6,\n",
       " 151,\n",
       " 6,\n",
       " 83,\n",
       " 11,\n",
       " 15,\n",
       " 22,\n",
       " 155,\n",
       " 11,\n",
       " 15,\n",
       " 7,\n",
       " 48,\n",
       " 9,\n",
       " 4579,\n",
       " 1005,\n",
       " 504,\n",
       " 6,\n",
       " 258,\n",
       " 6,\n",
       " 272,\n",
       " 11,\n",
       " 15,\n",
       " 22,\n",
       " 134,\n",
       " 44,\n",
       " 11,\n",
       " 15,\n",
       " 16,\n",
       " 8,\n",
       " 197,\n",
       " 1245,\n",
       " 90,\n",
       " 67,\n",
       " 52,\n",
       " 29,\n",
       " 209,\n",
       " 30,\n",
       " 32,\n",
       " 132,\n",
       " 6,\n",
       " 109,\n",
       " 15,\n",
       " 17,\n",
       " 12]"
      ]
     },
     "execution_count": 42,
     "metadata": {},
     "output_type": "execute_result"
    }
   ],
   "source": [
    "train_data[0]"
   ]
  },
  {
   "cell_type": "markdown",
   "metadata": {},
   "source": [
    "# PREPARING THE DATA "
   ]
  },
  {
   "cell_type": "code",
   "execution_count": 55,
   "metadata": {},
   "outputs": [],
   "source": [
    "#def vectorize_sequences(sequences,dimension=10000):\n",
    "#    results=np.zeros((len(sequences),dimension))\n",
    "#    for i, sequence in enumerate(sequences):\n",
    "#        results[i,sequence]=1.\n",
    "#    return results\n",
    "\n",
    "def Vectorize_sequences(sequences,dimension=10000): #sequence jo ha train data hai or dimension 10k is liye ha q k is bara num \n",
    "#nai or neural network specific size input leta ha or specific output produc krta ha\n",
    "    result=np.zeros((len(sequences),dimension)) #two dimension array bana rahe hain\n",
    "    for i,sequence in enumerate(sequences): #enumerate hamein index or value return krta ha\n",
    "        result[i,sequence]=1.\n",
    "    return result"
   ]
  },
  {
   "cell_type": "code",
   "execution_count": 56,
   "metadata": {},
   "outputs": [],
   "source": [
    "train_data=Vectorize_sequences(train_data)\n",
    "test_data=Vectorize_sequences(test_data)\n"
   ]
  },
  {
   "cell_type": "code",
   "execution_count": 45,
   "metadata": {},
   "outputs": [],
   "source": [
    "#onehotencode\n",
    "# class A B C usmy A B C rows and A B C columns jahan py bhi jo cheez class A sy belong\n",
    "#krti khali A PY ONE BAQI HAR JAGA ZERO\n",
    "# SAME PROCEDURE FOR B AND C JO CHEEZ JIS CLASS SY BELONG KRTI KHALI WAHEEN 1 AYEGA BAQI HAR JAGA 0\n",
    "#UTILS NAME WALI LIBRARY ONEHOTENCODING KI"
   ]
  },
  {
   "cell_type": "code",
   "execution_count": 57,
   "metadata": {},
   "outputs": [],
   "source": [
    "#function bana kr onehotencoding wala kam\n",
    "#def one_hot(labels,dimension=46):\n",
    "#    results=np.zeros((len(labels),dimension))\n",
    "#    for i, labels in enumerate(labels):\n",
    "#        results[i,labels]=1.\n",
    "#    return results\n",
    "#function mein label jayengy and dimension. dimension number of columns\n",
    "#then array banaya zeros ka jismy rows mein labels and columns mein dimension jayengi\n",
    "#loop ki condition labels mein labels jayengy and i mein index\n",
    "#i mein us index py jo label ha 1 2 jo bhi ha tw us perticular column ko 1 kardega baqi ko 0\n",
    "def to_one_hot(labels,dimension=46): \n",
    "    result=np.zeros((len(labels),dimension)) \n",
    "    for i,labels in enumerate(labels): \n",
    "        result[i,labels]=1.\n",
    "    return result"
   ]
  },
  {
   "cell_type": "code",
   "execution_count": 58,
   "metadata": {},
   "outputs": [],
   "source": [
    "\n",
    "one_hot_train_label=to_one_hot(train_labels)\n",
    "one_hot_test_label=to_one_hot(test_labels)\n",
    "\n"
   ]
  },
  {
   "cell_type": "markdown",
   "metadata": {},
   "source": [
    "# OR"
   ]
  },
  {
   "cell_type": "code",
   "execution_count": 48,
   "metadata": {},
   "outputs": [],
   "source": [
    "#same kam jo uper function bana kr kiya ha wohi is library sy bhi hoskta is trhn\n",
    "#one_hot_train_labels=utils.to_categorical(train_labels)\n",
    "#one_hot_train_labels=utils.to_categorical(test_labels)"
   ]
  },
  {
   "cell_type": "code",
   "execution_count": 59,
   "metadata": {},
   "outputs": [],
   "source": [
    "#x_val=x_train[:1000]\n",
    "#partial_x_train=train_data[1000:]\n",
    "#start k 1  hazar kr x_val mein jarhy hyn baqi k 1hazar k badd sy partial_x_train mein jarhy hyn yh input k liye \n",
    "#validation wala kam\n",
    "#y_val=one_hot_train_labels[:1000]\n",
    "#partial_y_train=one_hot_train_labels[1000:]\n",
    "#yh output k liye same kam \n",
    "\n",
    "\n",
    "x_val=train_data[:1000] #totl 40k hain jisme se validation me 10k ja rahe hain\n",
    "partial_x_train=train_data[1000:] #or baki partial me ja rahe ha\n",
    "y_val=one_hot_train_label[:1000]\n",
    "partial_y_train=one_hot_train_label[1000:]\n"
   ]
  },
  {
   "cell_type": "markdown",
   "metadata": {},
   "source": [
    "# NETWORK BUILDING"
   ]
  },
  {
   "cell_type": "code",
   "execution_count": 60,
   "metadata": {},
   "outputs": [],
   "source": [
    "#model=models.Sequential()\n",
    "#model.add(layers.Dense(64,activation='relu',input_shape=(10000,)))\n",
    "#model.add(layers.Dense(64,activation='relu'))\n",
    "#model.add(layers.Dense(46,activation='softmax'))\n",
    "#reuters mein 46 class hyn tbhi output mein 46 output \n",
    "#softmax probablity wala scene jiski sbsy ziada property hu wh output\n",
    "\n",
    "\n",
    "model=models.Sequential()\n",
    "model.add(layers.Dense(64,activation='relu',input_shape=(10000,)))\n",
    "model.add(layers.Dense(64,activation='relu'))\n",
    "model.add(layers.Dense(46,activation='softmax'))"
   ]
  },
  {
   "cell_type": "markdown",
   "metadata": {},
   "source": [
    "# COMPILATION STEP"
   ]
  },
  {
   "cell_type": "code",
   "execution_count": 61,
   "metadata": {},
   "outputs": [],
   "source": [
    "#multiclass k liye categorical cross entropy\n",
    "#model.compile(optimizer='rmsprop',\n",
    "#              loss='categorical_crossentropy',\n",
    "#              metrics=['accuracy'])\n",
    "\n",
    "\n",
    "model.compile(optimizer='rmsprop',\n",
    "             loss='categorical_crossentropy',\n",
    "             metrics=['accuracy'])"
   ]
  },
  {
   "cell_type": "code",
   "execution_count": 62,
   "metadata": {},
   "outputs": [
    {
     "name": "stdout",
     "output_type": "stream",
     "text": [
      "Train on 7982 samples, validate on 1000 samples\n",
      "Epoch 1/20\n",
      "7982/7982 [==============================] - 7s 822us/sample - loss: 2.5574 - accuracy: 0.5266 - val_loss: 1.6856 - val_accuracy: 0.6530\n",
      "Epoch 2/20\n",
      "7982/7982 [==============================] - 2s 311us/sample - loss: 1.3738 - accuracy: 0.7096 - val_loss: 1.2715 - val_accuracy: 0.7160\n",
      "Epoch 3/20\n",
      "7982/7982 [==============================] - 1s 170us/sample - loss: 1.0212 - accuracy: 0.7762 - val_loss: 1.1121 - val_accuracy: 0.7540\n",
      "Epoch 4/20\n",
      "7982/7982 [==============================] - 1s 182us/sample - loss: 0.8029 - accuracy: 0.8271 - val_loss: 1.0159 - val_accuracy: 0.7830\n",
      "Epoch 5/20\n",
      "7982/7982 [==============================] - 1s 159us/sample - loss: 0.6365 - accuracy: 0.8673 - val_loss: 0.9544 - val_accuracy: 0.7880\n",
      "Epoch 6/20\n",
      "7982/7982 [==============================] - 1s 162us/sample - loss: 0.5064 - accuracy: 0.8979 - val_loss: 0.9055 - val_accuracy: 0.7970\n",
      "Epoch 7/20\n",
      "7982/7982 [==============================] - 1s 157us/sample - loss: 0.4094 - accuracy: 0.9148 - val_loss: 0.9016 - val_accuracy: 0.8070\n",
      "Epoch 8/20\n",
      "7982/7982 [==============================] - 1s 161us/sample - loss: 0.3345 - accuracy: 0.9290 - val_loss: 0.9296 - val_accuracy: 0.7980\n",
      "Epoch 9/20\n",
      "7982/7982 [==============================] - 1s 155us/sample - loss: 0.2773 - accuracy: 0.9396 - val_loss: 0.8941 - val_accuracy: 0.8140\n",
      "Epoch 10/20\n",
      "7982/7982 [==============================] - 1s 174us/sample - loss: 0.2334 - accuracy: 0.9468 - val_loss: 0.8997 - val_accuracy: 0.8130\n",
      "Epoch 11/20\n",
      "7982/7982 [==============================] - 1s 182us/sample - loss: 0.2045 - accuracy: 0.9493 - val_loss: 0.9201 - val_accuracy: 0.8150\n",
      "Epoch 12/20\n",
      "7982/7982 [==============================] - 1s 174us/sample - loss: 0.1782 - accuracy: 0.9511 - val_loss: 0.9206 - val_accuracy: 0.8130\n",
      "Epoch 13/20\n",
      "7982/7982 [==============================] - 1s 178us/sample - loss: 0.1626 - accuracy: 0.9539 - val_loss: 0.9728 - val_accuracy: 0.8110\n",
      "Epoch 14/20\n",
      "7982/7982 [==============================] - 1s 182us/sample - loss: 0.1447 - accuracy: 0.9540 - val_loss: 1.0462 - val_accuracy: 0.8040\n",
      "Epoch 15/20\n",
      "7982/7982 [==============================] - 1s 188us/sample - loss: 0.1411 - accuracy: 0.9540 - val_loss: 1.0351 - val_accuracy: 0.8050\n",
      "Epoch 16/20\n",
      "7982/7982 [==============================] - 1s 172us/sample - loss: 0.1265 - accuracy: 0.9575 - val_loss: 1.0716 - val_accuracy: 0.7950\n",
      "Epoch 17/20\n",
      "7982/7982 [==============================] - 1s 162us/sample - loss: 0.1241 - accuracy: 0.9567 - val_loss: 1.0370 - val_accuracy: 0.8010\n",
      "Epoch 18/20\n",
      "7982/7982 [==============================] - 1s 159us/sample - loss: 0.1205 - accuracy: 0.9572 - val_loss: 1.0362 - val_accuracy: 0.8150\n",
      "Epoch 19/20\n",
      "7982/7982 [==============================] - 1s 170us/sample - loss: 0.1173 - accuracy: 0.9573 - val_loss: 1.0482 - val_accuracy: 0.8080\n",
      "Epoch 20/20\n",
      "7982/7982 [==============================] - 2s 209us/sample - loss: 0.1116 - accuracy: 0.9583 - val_loss: 1.1124 - val_accuracy: 0.8060\n"
     ]
    }
   ],
   "source": [
    "history=model.fit(partial_x_train,partial_y_train,epochs=20,batch_size=512,validation_data=(x_val,y_val))\n",
    "#history=model.fit(partial_x_train,partial_y_train,epochs=20,batch_size=512,validation_data=(x_val,y_val))"
   ]
  },
  {
   "cell_type": "code",
   "execution_count": null,
   "metadata": {},
   "outputs": [],
   "source": [
    "print(len(train_data))"
   ]
  },
  {
   "cell_type": "code",
   "execution_count": null,
   "metadata": {},
   "outputs": [],
   "source": [
    "print(len(train_labels))"
   ]
  },
  {
   "cell_type": "code",
   "execution_count": null,
   "metadata": {},
   "outputs": [],
   "source": [
    "print(len(test_data))"
   ]
  },
  {
   "cell_type": "code",
   "execution_count": 35,
   "metadata": {},
   "outputs": [
    {
     "name": "stdout",
     "output_type": "stream",
     "text": [
      "2246\n"
     ]
    }
   ],
   "source": [
    "print(len(test_labels))"
   ]
  },
  {
   "cell_type": "markdown",
   "metadata": {},
   "source": [
    "# Step :Plot Graph(Visualization of Data)"
   ]
  },
  {
   "cell_type": "code",
   "execution_count": 64,
   "metadata": {},
   "outputs": [
    {
     "name": "stdout",
     "output_type": "stream",
     "text": [
      "{'loss': [2.5573855200019344, 1.373751515256107, 1.0212496619749056, 0.8029070891135619, 0.6364732486536795, 0.5063771389310924, 0.4093637129502379, 0.3345155568610932, 0.2772581608813378, 0.2334227876551496, 0.20445336364499014, 0.17823062758716357, 0.16259189543718683, 0.14472321659304152, 0.1411259399227139, 0.12654431128421245, 0.12414659782814759, 0.12053496631964261, 0.11729373584427472, 0.11160128819213658], 'accuracy': [0.52655977, 0.7095966, 0.77624655, 0.827111, 0.8673265, 0.8978953, 0.91480833, 0.92896515, 0.9396141, 0.9467552, 0.94926083, 0.95114005, 0.9538963, 0.9540216, 0.9540216, 0.9575294, 0.95665246, 0.9571536, 0.95727885, 0.95828116], 'val_loss': [1.6855937423706056, 1.271474328994751, 1.1121355934143067, 1.0158937740325928, 0.9544083099365235, 0.9055418634414673, 0.9015713720321655, 0.929551552772522, 0.8941231565475464, 0.8996589341163636, 0.9201027030944824, 0.9206310353279114, 0.9727616748809814, 1.0462401323318482, 1.0351315546035766, 1.0715986261367798, 1.0369860010147094, 1.036231942176819, 1.0482054510116576, 1.1123864059448243], 'val_accuracy': [0.653, 0.716, 0.754, 0.783, 0.788, 0.797, 0.807, 0.798, 0.814, 0.813, 0.815, 0.813, 0.811, 0.804, 0.805, 0.795, 0.801, 0.815, 0.808, 0.806]}\n"
     ]
    }
   ],
   "source": [
    "history_dict=history.history #ye hr epochs me kitna loss or acccuracy wo sb btata ha\n",
    "print(history_dict)"
   ]
  },
  {
   "cell_type": "code",
   "execution_count": 65,
   "metadata": {},
   "outputs": [
    {
     "data": {
      "image/png": "[encoded data removed]",
      "text/plain": [
       "<Figure size 432x288 with 1 Axes>"
      ]
     },
     "metadata": {
      "needs_background": "light"
     },
     "output_type": "display_data"
    },
    {
     "data": {
      "image/png": "[encoded data removed]",
      "text/plain": [
       "<Figure size 432x288 with 1 Axes>"
      ]
     },
     "metadata": {
      "needs_background": "light"
     },
     "output_type": "display_data"
    },
    {
     "data": {
      "text/plain": [
       "<function matplotlib.pyplot.clf()>"
      ]
     },
     "execution_count": 65,
     "metadata": {},
     "output_type": "execute_result"
    }
   ],
   "source": [
    "loss_values=history_dict['loss']\n",
    "val_loss_values=history_dict['val_loss']\n",
    "epochs=range(1,len(loss_values)+1)\n",
    "plt.plot(epochs,loss_values,'bo',label='Training loss')\n",
    "plt.plot(epochs,val_loss_values,'b',label='Validation loss')\n",
    "plt.title('Training and Validation loss')\n",
    "plt.xlabel('Epochs')\n",
    "plt.ylabel('Loss')\n",
    "plt.legend()\n",
    "plt.show()\n",
    "plt.clf\n",
    "acc_values=history_dict['accuracy']\n",
    "val_acc_values=history_dict['val_accuracy']\n",
    "epochs=range(1,len(acc_values)+1)\n",
    "plt.plot(epochs,acc_values,'bo',label='Training acc')\n",
    "plt.plot(epochs,val_acc_values,'b',label='Validation acc')\n",
    "plt.title('Training and Validation accuracy')\n",
    "plt.xlabel('Epochs')\n",
    "plt.ylabel('acc')\n",
    "plt.legend()\n",
    "plt.show()\n",
    "plt.clf"
   ]
  },
  {
   "cell_type": "markdown",
   "metadata": {},
   "source": [
    "# final model predict"
   ]
  },
  {
   "cell_type": "code",
   "execution_count": 66,
   "metadata": {},
   "outputs": [
    {
     "data": {
      "text/plain": [
       "array([[7.9458340e-07, 1.6082345e-06, 8.3971607e-08, ..., 5.9704682e-08,\n",
       "        9.3383135e-11, 2.0942239e-09],\n",
       "       [2.4662184e-04, 6.7626417e-01, 3.6918204e-06, ..., 1.1340838e-07,\n",
       "        1.4637618e-10, 4.2875186e-08],\n",
       "       [3.8135934e-04, 9.4276512e-01, 1.3468878e-03, ..., 5.0720020e-05,\n",
       "        2.3725632e-07, 1.2766939e-06],\n",
       "       ...,\n",
       "       [1.6058947e-06, 5.9362064e-06, 2.8424040e-07, ..., 3.8386547e-06,\n",
       "        3.4630535e-10, 4.1048236e-09],\n",
       "       [7.7244379e-03, 3.4786004e-01, 6.7931012e-04, ..., 6.8948772e-05,\n",
       "        7.7678187e-06, 8.7040054e-05],\n",
       "       [1.3138550e-04, 9.3174458e-01, 2.7961559e-03, ..., 9.8537297e-05,\n",
       "        1.7745197e-07, 2.0876502e-08]], dtype=float32)"
      ]
     },
     "execution_count": 66,
     "metadata": {},
     "output_type": "execute_result"
    }
   ],
   "source": [
    "prediction=model.predict(test_data)\n",
    "prediction"
   ]
  },
  {
   "cell_type": "code",
   "execution_count": 67,
   "metadata": {},
   "outputs": [
    {
     "data": {
      "text/plain": [
       "(2246, 46)"
      ]
     },
     "execution_count": 67,
     "metadata": {},
     "output_type": "execute_result"
    }
   ],
   "source": [
    "prediction.shape"
   ]
  },
  {
   "cell_type": "code",
   "execution_count": 68,
   "metadata": {},
   "outputs": [
    {
     "data": {
      "text/plain": [
       "0.9999999"
      ]
     },
     "execution_count": 68,
     "metadata": {},
     "output_type": "execute_result"
    }
   ],
   "source": [
    "prediction[0].sum()"
   ]
  },
  {
   "cell_type": "markdown",
   "metadata": {},
   "source": [
    "# Alternating Approach For Labels Instead of one hot encoding"
   ]
  },
  {
   "cell_type": "code",
   "execution_count": 69,
   "metadata": {},
   "outputs": [],
   "source": [
    "train_label=np.array(train_labels)\n",
    "test_label=np.array(test_labels)"
   ]
  },
  {
   "cell_type": "code",
   "execution_count": 70,
   "metadata": {},
   "outputs": [],
   "source": [
    "model.compile(optimizer='rmsprop',\n",
    "             loss='sparse_categorical_crossentropy',\n",
    "             metrics=['accuracy'])"
   ]
  },
  {
   "cell_type": "code",
   "execution_count": 71,
   "metadata": {},
   "outputs": [
    {
     "name": "stdout",
     "output_type": "stream",
     "text": [
      "Train on 8982 samples\n",
      "Epoch 1/20\n",
      "8982/8982 [==============================] - 2s 275us/sample - loss: 0.2375 - accuracy: 0.9394\n",
      "Epoch 2/20\n",
      "8982/8982 [==============================] - 2s 170us/sample - loss: 0.1596 - accuracy: 0.9488\n",
      "Epoch 3/20\n",
      "8982/8982 [==============================] - 1s 148us/sample - loss: 0.1390 - accuracy: 0.9522\n",
      "Epoch 4/20\n",
      "8982/8982 [==============================] - 1s 162us/sample - loss: 0.1271 - accuracy: 0.9536\n",
      "Epoch 5/20\n",
      "8982/8982 [==============================] - 1s 137us/sample - loss: 0.1236 - accuracy: 0.9536\n",
      "Epoch 6/20\n",
      "8982/8982 [==============================] - 1s 127us/sample - loss: 0.1185 - accuracy: 0.9547\n",
      "Epoch 7/20\n",
      "8982/8982 [==============================] - 1s 164us/sample - loss: 0.1121 - accuracy: 0.9561\n",
      "Epoch 8/20\n",
      "8982/8982 [==============================] - 1s 167us/sample - loss: 0.1098 - accuracy: 0.9566\n",
      "Epoch 9/20\n",
      "8982/8982 [==============================] - 1s 148us/sample - loss: 0.1059 - accuracy: 0.9556\n",
      "Epoch 10/20\n",
      "8982/8982 [==============================] - 1s 143us/sample - loss: 0.1086 - accuracy: 0.9534\n",
      "Epoch 11/20\n",
      "8982/8982 [==============================] - 1s 144us/sample - loss: 0.1043 - accuracy: 0.9574\n",
      "Epoch 12/20\n",
      "8982/8982 [==============================] - 1s 146us/sample - loss: 0.1042 - accuracy: 0.9550\n",
      "Epoch 13/20\n",
      "8982/8982 [==============================] - 1s 141us/sample - loss: 0.1003 - accuracy: 0.9570\n",
      "Epoch 14/20\n",
      "8982/8982 [==============================] - 1s 146us/sample - loss: 0.0996 - accuracy: 0.9577\n",
      "Epoch 15/20\n",
      "8982/8982 [==============================] - 1s 141us/sample - loss: 0.0963 - accuracy: 0.9564\n",
      "Epoch 16/20\n",
      "8982/8982 [==============================] - 1s 160us/sample - loss: 0.1002 - accuracy: 0.9562\n",
      "Epoch 17/20\n",
      "8982/8982 [==============================] - 2s 169us/sample - loss: 0.0969 - accuracy: 0.9542\n",
      "Epoch 18/20\n",
      "8982/8982 [==============================] - 1s 153us/sample - loss: 0.0974 - accuracy: 0.9542\n",
      "Epoch 19/20\n",
      "8982/8982 [==============================] - 1s 146us/sample - loss: 0.0970 - accuracy: 0.9562\n",
      "Epoch 20/20\n",
      "8982/8982 [==============================] - 1s 144us/sample - loss: 0.0954 - accuracy: 0.9551\n"
     ]
    }
   ],
   "source": [
    "history=model.fit(train_data,train_label,epochs=20,batch_size=512)"
   ]
  },
  {
   "cell_type": "code",
   "execution_count": 72,
   "metadata": {},
   "outputs": [
    {
     "data": {
      "text/plain": [
       "array([[2.4661807e-07, 3.6010448e-07, 1.6307945e-08, ..., 5.6811689e-10,\n",
       "        4.4991807e-15, 4.0032175e-12],\n",
       "       [6.9317197e-05, 8.8529974e-01, 2.3126047e-05, ..., 5.2346766e-11,\n",
       "        6.9638102e-14, 4.9691906e-08],\n",
       "       [4.2271087e-05, 9.6958464e-01, 6.7385164e-04, ..., 9.9313706e-07,\n",
       "        1.1924459e-11, 4.1810018e-09],\n",
       "       ...,\n",
       "       [2.0758050e-07, 4.4982385e-06, 6.5575398e-09, ..., 7.0916663e-08,\n",
       "        6.3921135e-16, 7.1381139e-13],\n",
       "       [4.8529920e-03, 2.2138904e-01, 1.0767070e-04, ..., 1.3532313e-06,\n",
       "        1.0723537e-08, 1.1787818e-06],\n",
       "       [3.3284642e-04, 2.0805870e-01, 2.0931814e-02, ..., 8.1128077e-05,\n",
       "        6.9607059e-10, 7.3960673e-09]], dtype=float32)"
      ]
     },
     "execution_count": 72,
     "metadata": {},
     "output_type": "execute_result"
    }
   ],
   "source": [
    "prediction=model.predict(test_data)\n",
    "prediction"
   ]
  },
  {
   "cell_type": "code",
   "execution_count": 73,
   "metadata": {},
   "outputs": [
    {
     "data": {
      "text/plain": [
       "(2246, 46)"
      ]
     },
     "execution_count": 73,
     "metadata": {},
     "output_type": "execute_result"
    }
   ],
   "source": [
    "prediction.shape"
   ]
  },
  {
   "cell_type": "code",
   "execution_count": 74,
   "metadata": {},
   "outputs": [
    {
     "data": {
      "text/plain": [
       "0.99999994"
      ]
     },
     "execution_count": 74,
     "metadata": {},
     "output_type": "execute_result"
    }
   ],
   "source": [
    "prediction[0].sum()"
   ]
  },
  {
   "cell_type": "code",
   "execution_count": null,
   "metadata": {},
   "outputs": [],
   "source": []
  }
 ],
 "metadata": {
  "kernelspec": {
   "display_name": "Python 3",
   "language": "python",
   "name": "python3"
  },
  "language_info": {
   "codemirror_mode": {
    "name": "ipython",
    "version": 3
   },
   "file_extension": ".py",
   "mimetype": "text/x-python",
   "name": "python",
   "nbconvert_exporter": "python",
   "pygments_lexer": "ipython3",
   "version": "3.7.4"
  }
 },
 "nbformat": 4,
 "nbformat_minor": 2
}
